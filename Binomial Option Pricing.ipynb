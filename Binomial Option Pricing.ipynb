{
 "cells": [
  {
   "cell_type": "markdown",
   "metadata": {},
   "source": [
    "# Binomial Tree Model: Functions Using %'s for Up/Down Movement"
   ]
  },
  {
   "cell_type": "code",
   "execution_count": 2,
   "metadata": {},
   "outputs": [],
   "source": [
    "import numpy as np\n",
    "import math\n",
    "import pandas as pd\n",
    "import scipy.stats as st\n",
    "from scipy.optimize import fsolve\n",
    "\n",
    "def t_branch_binom_tree(t, p, r1, r2, S0):\n",
    "    vals = []\n",
    "    probabilities = []\n",
    "    \n",
    "    for i in range(0, t+1):\n",
    "        vals.append((r1)**i * (r2)**(t-i)) # 'i' & 't-i' give the values required for multiplying the returns of each branch\n",
    "        probabilities.append(st.binom.pmf(i, t, p)) # returns p_dist of each node using pmf\n",
    "    \n",
    "    vals = np.sort(np.array(vals)) # orders values in ascending order (decides the direction of the tree - if descending values then prob up = prob down)\n",
    "        \n",
    "    return S0*np.array(vals), np.array(probabilities)\n",
    "\n",
    "def return_tree(t, p, r1, r2, S0):\n",
    "    branches = []\n",
    "    probabilities = []\n",
    "    time = np.arange(t)\n",
    "    \n",
    "    for t in time:\n",
    "        branches.append(t_branch_binom_tree(t, p, r1, r2, S0)[0])\n",
    "        probabilities.append(t_branch_binom_tree(t, p, r1, r2, S0)[1])\n",
    "    \n",
    "    return pd.DataFrame(branches).fillna('-'), pd.DataFrame(probabilities).fillna('-')\n"
   ]
  },
  {
   "cell_type": "markdown",
   "metadata": {},
   "source": [
    "# Generating Individual Branches of the Tree"
   ]
  },
  {
   "cell_type": "code",
   "execution_count": 77,
   "metadata": {},
   "outputs": [
    {
     "name": "stdout",
     "output_type": "stream",
     "text": [
      "        Value  Probability\n",
      "0   81.450625       0.0625\n",
      "1   90.024375       0.2500\n",
      "2   99.500625       0.3750\n",
      "3  109.974375       0.2500\n",
      "4  121.550625       0.0625\n"
     ]
    }
   ],
   "source": [
    "S0 = 100 # initial value\n",
    "t = 4 # set time steps\n",
    "p = 0.5 # probabilities of up and down (up is p and down is q=1-p)\n",
    "r1 = 1.05\n",
    "r2 = 0.95\n",
    "\n",
    "vals, probs = t_branch_binom_tree(t, p, r1, r2, S0)\n",
    "\n",
    "branch_t = pd.DataFrame(np.array([vals, probs]).T, columns=['Value', 'Probability'])\n",
    "\n",
    "print(branch_t)"
   ]
  },
  {
   "cell_type": "markdown",
   "metadata": {},
   "source": [
    "# Generating Binomial Tree"
   ]
  },
  {
   "cell_type": "code",
   "execution_count": 78,
   "metadata": {},
   "outputs": [
    {
     "name": "stdout",
     "output_type": "stream",
     "text": [
      "          0        1        2        3\n",
      "0  100.0000        -        -        -\n",
      "1   95.0000      105        -        -\n",
      "2   90.2500    99.75   110.25        -\n",
      "3   85.7375  94.7625  104.737  115.763 \n",
      "        0      1      2      3\n",
      "0  1.000      -      -      -\n",
      "1  0.500    0.5      -      -\n",
      "2  0.250    0.5   0.25      -\n",
      "3  0.125  0.375  0.375  0.125\n"
     ]
    }
   ],
   "source": [
    "S0 = 100 # initial value\n",
    "t = 4 # set time steps\n",
    "p = 0.5 # probabilities of up and down (up is p and down is q=1-p)\n",
    "r1 = 1.05\n",
    "r2 = 0.95\n",
    "\n",
    "branches, probs = return_tree(t, p, r1, r2, S0)\n",
    "\n",
    "print(branches, \"\\n\", probs)"
   ]
  },
  {
   "cell_type": "code",
   "execution_count": 4,
   "metadata": {},
   "outputs": [],
   "source": [
    "p = 0"
   ]
  },
  {
   "cell_type": "code",
   "execution_count": 6,
   "metadata": {},
   "outputs": [
    {
     "data": {
      "text/plain": [
       "1.3322165477963919"
      ]
     },
     "execution_count": 6,
     "metadata": {},
     "output_type": "execute_result"
    }
   ],
   "source": [
    "import numpy as np\n",
    "import math\n",
    "import pandas as pd\n",
    "import scipy.stats as st\n",
    "\n",
    "S0 = 48 # initial value\n",
    "K = 50\n",
    "t = 2 # set time steps\n",
    "#p = 0.5 # probabilities of up and down (up is p and down is q=1-p)\n",
    "up = 3\n",
    "down = 3\n",
    "T = 0.5\n",
    "r = 0.04\n",
    "dt = T/t\n",
    "O = 1\n",
    "\n",
    "def f_delta(delta, O_up, S_up, O_down, S_down):\n",
    "    return (O_up - S_up*delta) - (O_down - S_down*delta)\n",
    "\n",
    "def f_option(O_curr, S_curr, delta, O_up, S_up, O_down, S_down, r, dt):\n",
    "    return (O_curr - S_curr*delta) - np.exp(-r*(dt))*(O_down - S_down*delta)\n",
    "\n",
    "def binomial_replication_pricing(S0, K, t, p, up, down, T, r, dt, O):\n",
    "    # intialising numpy arrays for holding stock and option prices\n",
    "    s_tree = np.array([[0] * (t+1) for i in range(t+1)]).astype(float)\n",
    "    o_tree = np.array([[0] * (t+1) for i in range(t+1)]).astype(float)\n",
    "    s_tree[0][0] = S0\n",
    "\n",
    "    # obtaining stock prices for each branch\n",
    "    for i in range(1, t+1): # each branch\n",
    "        for j in range(i+1):\n",
    "            if j != 0:\n",
    "                s_tree[i][j] = s_tree[i-1][j-1] + up\n",
    "            else:\n",
    "                s_tree[i][j] = s_tree[i-1][j] - down\n",
    "\n",
    "    # calculating the final row of option prices \n",
    "    o_tree[-1] = np.maximum(O*(s_tree[-1] - K), 0)\n",
    "\n",
    "    # dynamically calculating options prices from T to current time\n",
    "    for i in range(len(s_tree)-2, -1, -1):\n",
    "        for j in range(0, i+1):\n",
    "            delta_0 = 0.5 # guess\n",
    "            delta = fsolve(f_delta, delta_0, (o_tree[i+1][j+1], s_tree[i+1][j+1], \n",
    "                                              o_tree[i+1][j], s_tree[i+1][j])) # solve\n",
    "            O_0 = 1\n",
    "            O_curr = fsolve(f_option, O_0, (s_tree[i][j], delta, o_tree[i+1][j+1], \n",
    "                                                  s_tree[i+1][j+1], o_tree[i+1][j], s_tree[i+1][j], \n",
    "                                                  r , dt)) # solve\n",
    "\n",
    "            o_tree[i,j] = O_curr[0]\n",
    "\n",
    "\n",
    "    return o_tree[0][0]\n",
    "\n",
    "binomial_replication_pricing(S0, K, t, p, up, down, T, r, dt, O)"
   ]
  },
  {
   "cell_type": "code",
   "execution_count": 162,
   "metadata": {},
   "outputs": [
    {
     "name": "stdout",
     "output_type": "stream",
     "text": [
      "[[1 0 0]\n",
      " [0 0 0]\n",
      " [4 0 0]]\n"
     ]
    }
   ],
   "source": [
    "o_tree[0][0] = float(O_curr[0])\n",
    "\n",
    "print(o_tree)"
   ]
  },
  {
   "cell_type": "markdown",
   "metadata": {},
   "source": [
    "# Trinomial Tree Model: Values & Probabilities of t'th branch"
   ]
  },
  {
   "cell_type": "code",
   "execution_count": 93,
   "metadata": {},
   "outputs": [],
   "source": [
    "import numpy as np\n",
    "import math\n",
    "import pandas as pd\n",
    "import scipy.stats as st\n",
    "\n",
    "def ret_probabilities(t_branch, probability_set, tri_nom_vals):\n",
    "    # storing all values of the t'th branch to 2dp\n",
    "    all_vals = np.around(t_branch, decimals=2)\n",
    "\n",
    "    # storing the unique values\n",
    "    unique_vals = tri_nom_vals # unique values\n",
    "\n",
    "    l = [] # np.array that will contain the index of the probabilities to be summed\n",
    "    t_branch_probabilities = [] # list that will contain the final probabilities for the t'th branch\n",
    "\n",
    "    # iterating through the unique branch values and saving their indices in the array\n",
    "    for i in range(len(unique_vals)):\n",
    "        l.append(np.where(all_vals == unique_vals[i]))\n",
    "\n",
    "    # iterating through the array and taking the set of indices to sum and summing them in the probability set\n",
    "    for j in range(len(l)):    \n",
    "        idx = [l[j][0][i] for i in range(len(l[j][0]))]\n",
    "        t_branch_probabilities.append(probability_set[idx].sum())\n",
    "        \n",
    "    return t_branch_probabilities\n",
    "\n",
    "\n",
    "def trinom_tree(S0, t, sigma, p):\n",
    "    r1 = math.exp(sigma * np.sqrt(1/t))\n",
    "    r2 = 1/r1\n",
    "    tree_branches = [np.array([S0])]\n",
    "    probability_set = [np.array([(1)])]\n",
    "    \n",
    "    # iterates over t and multiplies out all probabilities and return values\n",
    "    for i in range(t):\n",
    "        tree_branches.append(np.concatenate((tree_branches[-1]*r1, tree_branches[-1], tree_branches[-1]*r2)))\n",
    "        probability_set.append(np.concatenate((probability_set[-1]*p[0], probability_set[-1]*p[1], probability_set[-1]*p[2])))\n",
    "        \n",
    "    # identifies unique trinomial values and stores     \n",
    "    tri_nom_vals = [np.unique(np.around(tree_branches[i], decimals=2)) for i in range(len(tree_branches))]\n",
    "    \n",
    "    # calls function ret_probabilities which identifies repeat values in t'th branch of tree_branch and then\n",
    "    # finds their indices, and adds together the probabilities from probability set to calculate probabilities of each\n",
    "    # output node\n",
    "    tri_nom_probabilities = ret_probabilities(tree_branches[t], probability_set[t], tri_nom_vals[t])\n",
    "    \n",
    "    return np.array(tri_nom_vals[t]), np.array(tri_nom_probabilities)\n"
   ]
  },
  {
   "cell_type": "code",
   "execution_count": 110,
   "metadata": {},
   "outputs": [
    {
     "name": "stdout",
     "output_type": "stream",
     "text": [
      "    Value  Probability\n",
      "0   89.58          0.3\n",
      "1  100.00          0.4\n",
      "2  111.63          0.3\n"
     ]
    },
    {
     "data": {
      "text/plain": [
       "1.0"
      ]
     },
     "metadata": {},
     "output_type": "display_data"
    }
   ],
   "source": [
    "# parameters to adjust\n",
    "S0 = 100\n",
    "t = 1\n",
    "sigma = 0.11\n",
    "p = [0.3, 0.4, 0.3]\n",
    "\n",
    "# function call\n",
    "v, p = trinom_tree(S0, t, sigma, p)\n",
    "\n",
    "# formatting output\n",
    "output = np.array([v, p]).T\n",
    "\n",
    "# placing into DataFrame for clean output\n",
    "print(pd.DataFrame(output, columns=['Value', 'Probability']))\n",
    "\n",
    "# checking probabilities sum to 1\n",
    "display(np.around(sum(p), decimals=2))"
   ]
  }
 ],
 "metadata": {
  "kernelspec": {
   "display_name": "Python 3",
   "language": "python",
   "name": "python3"
  },
  "language_info": {
   "codemirror_mode": {
    "name": "ipython",
    "version": 3
   },
   "file_extension": ".py",
   "mimetype": "text/x-python",
   "name": "python",
   "nbconvert_exporter": "python",
   "pygments_lexer": "ipython3",
   "version": "3.7.6"
  }
 },
 "nbformat": 4,
 "nbformat_minor": 4
}
